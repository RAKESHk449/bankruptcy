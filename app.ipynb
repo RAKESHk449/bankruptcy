{
 "cells": [
  {
   "cell_type": "code",
   "execution_count": 1,
   "id": "8b02054f",
   "metadata": {},
   "outputs": [
    {
     "name": "stderr",
     "output_type": "stream",
     "text": [
      "2023-11-27 15:41:11.036 \n",
      "  \u001b[33m\u001b[1mWarning:\u001b[0m to view this Streamlit app on a browser, run it with the following\n",
      "  command:\n",
      "\n",
      "    streamlit run C:\\Users\\HP\\anaconda3\\Lib\\site-packages\\ipykernel_launcher.py [ARGUMENTS]\n"
     ]
    }
   ],
   "source": [
    "import streamlit as st\n",
    "from PIL import Image\n",
    "import pandas as pd\n",
    "import numpy as np\n",
    "import pickle  # Import joblib to load the pre-trained model\n",
    "\n",
    "def main():\n",
    "    st.markdown(\"<h1 style='text-align: center; color: #15F4F4; text-decoration:underline;'>Bankruptcy Prevention</h1>\", unsafe_allow_html=True)\n",
    "    image = Image.open('bank.jpg')\n",
    "    st.sidebar.image(image, width=300)\n",
    "\n",
    "if __name__ == \"__main__\":\n",
    "    main()\n",
    "\n",
    "# Load the pre-trained model\n",
    "with open(\"model_LR.pkl\", \"rb\") as file:\n",
    "    model = pickle.load(file)\n",
    "\n",
    "training_feature_names = ['management_risk', 'financial_flexibility', 'credibility', 'competitiveness','industrial_risk','operating_risk']\n",
    "\n",
    "# Function to make predictions\n",
    "def predict_bankruptcy(training_feature_names):\n",
    "    # Ensure the features have the same order as when you trained the model\n",
    "    prediction = model.predict(training_feature_names)\n",
    "    return prediction\n",
    "\n",
    "# Your input form\n",
    "st.sidebar.title(\"Predict Bankruptcy\")\n",
    "management_risk = st.number_input(\"Management Risk\", min_value=0.0, max_value=1.0, step=0.01)\n",
    "financial_flexibility = st.number_input(\"Financial Flexibility\", min_value=0.0, max_value=1.0, step=0.01)\n",
    "credibility = st.number_input(\"Credibility\", min_value=0.0, max_value=1.0, step=0.01)\n",
    "competitiveness = st.number_input(\"Competitiveness\", min_value=0.0, max_value=1.0, step=0.01)\n",
    "industrial_risk=st.number_input(\"industrial_risk\", min_value=0.0, max_value=1.0, step=0.01)\n",
    "operating_risk=st.number_input(\"operating_risk\", min_value=0.0, max_value=1.0, step=0.01)\n",
    "\n",
    "if st.button(\"Predict\"):\n",
    "    # Create a DataFrame from user input\n",
    "    user_input = pd.DataFrame({\n",
    "        ' management_risk': [management_risk],\n",
    "        ' financial_flexibility': [financial_flexibility],\n",
    "        ' credibility': [credibility],\n",
    "        ' competitiveness': [competitiveness],\n",
    "        'industrial_risk':[industrial_risk],\n",
    "        'operating_risk':[operating_risk]\n",
    "        \n",
    "    })\n",
    "\n",
    "\n",
    "    # Make a prediction\n",
    "    prediction = predict_bankruptcy(user_input)\n",
    "\n",
    "    # Display the result\n",
    "    if prediction == 0:\n",
    "        st.subheader(\"Business is likely to go bankrupt.\")\n",
    "        image = Image.open('bankrupt.jpg')\n",
    "        st.image(image, width=300)\n",
    "    else:\n",
    "        st.subheader(\"Business is likely to survive.\")\n",
    "        image = Image.open('nonbankrupt1.jpg')\n",
    "        st.image(image, width=300)"
   ]
  },
  {
   "cell_type": "code",
   "execution_count": null,
   "id": "769a94ed",
   "metadata": {},
   "outputs": [],
   "source": []
  }
 ],
 "metadata": {
  "kernelspec": {
   "display_name": "Python 3 (ipykernel)",
   "language": "python",
   "name": "python3"
  },
  "language_info": {
   "codemirror_mode": {
    "name": "ipython",
    "version": 3
   },
   "file_extension": ".py",
   "mimetype": "text/x-python",
   "name": "python",
   "nbconvert_exporter": "python",
   "pygments_lexer": "ipython3",
   "version": "3.11.4"
  }
 },
 "nbformat": 4,
 "nbformat_minor": 5
}
